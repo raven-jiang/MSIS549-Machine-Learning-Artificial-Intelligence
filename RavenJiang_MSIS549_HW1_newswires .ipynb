{
  "nbformat": 4,
  "nbformat_minor": 0,
  "metadata": {
    "colab": {
      "name": "Raven Jiang MSIS549_HW1_newswires.ipynb",
      "provenance": [],
      "collapsed_sections": []
    },
    "language_info": {
      "codemirror_mode": {
        "name": "ipython",
        "version": 3
      },
      "file_extension": ".py",
      "mimetype": "text/x-python",
      "name": "python",
      "nbconvert_exporter": "python",
      "pygments_lexer": "ipython3",
      "version": "3.5.2"
    },
    "kernelspec": {
      "display_name": "Python 3",
      "language": "python",
      "name": "python3"
    }
  },
  "cells": [
    {
      "cell_type": "code",
      "metadata": {
        "id": "_0lDkFZq3ohI",
        "colab_type": "code",
        "colab": {
          "base_uri": "https://localhost:8080/",
          "height": 412
        },
        "outputId": "7058ce98-27ee-4bea-c02b-81f006a2f055"
      },
      "source": [
        "%tensorflow_version 1.14\n",
        "%matplotlib inline\n",
        "import warnings\n",
        "warnings.filterwarnings('ignore')\n",
        "\n",
        "import tensorflow as tf\n",
        "tf.logging.set_verbosity(tf.logging.ERROR)\n",
        "\n",
        "import keras\n",
        "keras.__version__\n",
        "\n",
        "!pip install numpy==1.16.1\n",
        "import numpy as np"
      ],
      "execution_count": 1,
      "outputs": [
        {
          "output_type": "stream",
          "text": [
            "`%tensorflow_version` only switches the major version: 1.x or 2.x.\n",
            "You set: `1.14`. This will be interpreted as: `1.x`.\n",
            "\n",
            "\n",
            "TensorFlow 1.x selected.\n"
          ],
          "name": "stdout"
        },
        {
          "output_type": "stream",
          "text": [
            "Using TensorFlow backend.\n"
          ],
          "name": "stderr"
        },
        {
          "output_type": "stream",
          "text": [
            "Collecting numpy==1.16.1\n",
            "\u001b[?25l  Downloading https://files.pythonhosted.org/packages/f5/bf/4981bcbee43934f0adb8f764a1e70ab0ee5a448f6505bd04a87a2fda2a8b/numpy-1.16.1-cp36-cp36m-manylinux1_x86_64.whl (17.3MB)\n",
            "\u001b[K     |████████████████████████████████| 17.3MB 236kB/s \n",
            "\u001b[31mERROR: tensorflow 1.15.2 has requirement gast==0.2.2, but you'll have gast 0.3.3 which is incompatible.\u001b[0m\n",
            "\u001b[31mERROR: datascience 0.10.6 has requirement folium==0.2.1, but you'll have folium 0.8.3 which is incompatible.\u001b[0m\n",
            "\u001b[31mERROR: albumentations 0.1.12 has requirement imgaug<0.2.7,>=0.2.5, but you'll have imgaug 0.2.9 which is incompatible.\u001b[0m\n",
            "\u001b[?25hInstalling collected packages: numpy\n",
            "  Found existing installation: numpy 1.18.2\n",
            "    Uninstalling numpy-1.18.2:\n",
            "      Successfully uninstalled numpy-1.18.2\n",
            "Successfully installed numpy-1.16.1\n"
          ],
          "name": "stdout"
        },
        {
          "output_type": "display_data",
          "data": {
            "application/vnd.colab-display-data+json": {
              "pip_warning": {
                "packages": [
                  "numpy"
                ]
              }
            }
          },
          "metadata": {
            "tags": []
          }
        }
      ]
    },
    {
      "cell_type": "markdown",
      "metadata": {
        "id": "bu5jf9gW3ohR",
        "colab_type": "text"
      },
      "source": [
        "# Classifying newswires: a multi-class classification example\n",
        "\n",
        "In this homework, we will build a network to classify Reuters newswires into 46 different mutually-exclusive topics. Since we have many \n",
        "classes, this problem is an instance of \"multi-class classification\", and since each data point should be classified into only one \n",
        "category, the problem is more specifically an instance of \"single-label, multi-class classification\"."
      ]
    },
    {
      "cell_type": "markdown",
      "metadata": {
        "id": "_-s49gXW3ohT",
        "colab_type": "text"
      },
      "source": [
        "## The Reuters dataset\n",
        "\n",
        "\n",
        "We will be working with the _Reuters dataset_, a set of short newswires and their topics, published by Reuters in 1986. It's a very simple, \n",
        "widely used toy dataset for text classification. There are 46 different topics; some topics are more represented than others, but each \n",
        "topic has at least 10 examples in the training set.\n",
        "\n",
        "Like IMDB and MNIST, the Reuters dataset comes packaged as part of Keras. Let's take a look right away:"
      ]
    },
    {
      "cell_type": "code",
      "metadata": {
        "id": "yjSiBNZS3ohU",
        "colab_type": "code",
        "colab": {}
      },
      "source": [
        "from keras.datasets import reuters\n",
        "\n",
        "(train_data, train_labels), (test_data, test_labels) = reuters.load_data(num_words=10000)"
      ],
      "execution_count": 0,
      "outputs": []
    },
    {
      "cell_type": "markdown",
      "metadata": {
        "id": "-VRrIjNI3ohX",
        "colab_type": "text"
      },
      "source": [
        "\n",
        "Like with the IMDB dataset, the argument `num_words=10000` restricts the data to the 10,000 most frequently occurring words found in the \n",
        "data.\n",
        "\n",
        "We have 8,982 training examples and 2,246 test examples:"
      ]
    },
    {
      "cell_type": "markdown",
      "metadata": {
        "id": "FMdiLzvF3ohf",
        "colab_type": "text"
      },
      "source": [
        "As with the IMDB reviews, each example is a list of integers (word indices):"
      ]
    },
    {
      "cell_type": "code",
      "metadata": {
        "id": "QriVgMSe3ohg",
        "colab_type": "code",
        "colab": {
          "base_uri": "https://localhost:8080/",
          "height": 1000
        },
        "outputId": "bc5b4b46-21a6-4137-f7ca-5bdefde841aa"
      },
      "source": [
        "train_data[0]"
      ],
      "execution_count": 4,
      "outputs": [
        {
          "output_type": "execute_result",
          "data": {
            "text/plain": [
              "[1,\n",
              " 2,\n",
              " 2,\n",
              " 8,\n",
              " 43,\n",
              " 10,\n",
              " 447,\n",
              " 5,\n",
              " 25,\n",
              " 207,\n",
              " 270,\n",
              " 5,\n",
              " 3095,\n",
              " 111,\n",
              " 16,\n",
              " 369,\n",
              " 186,\n",
              " 90,\n",
              " 67,\n",
              " 7,\n",
              " 89,\n",
              " 5,\n",
              " 19,\n",
              " 102,\n",
              " 6,\n",
              " 19,\n",
              " 124,\n",
              " 15,\n",
              " 90,\n",
              " 67,\n",
              " 84,\n",
              " 22,\n",
              " 482,\n",
              " 26,\n",
              " 7,\n",
              " 48,\n",
              " 4,\n",
              " 49,\n",
              " 8,\n",
              " 864,\n",
              " 39,\n",
              " 209,\n",
              " 154,\n",
              " 6,\n",
              " 151,\n",
              " 6,\n",
              " 83,\n",
              " 11,\n",
              " 15,\n",
              " 22,\n",
              " 155,\n",
              " 11,\n",
              " 15,\n",
              " 7,\n",
              " 48,\n",
              " 9,\n",
              " 4579,\n",
              " 1005,\n",
              " 504,\n",
              " 6,\n",
              " 258,\n",
              " 6,\n",
              " 272,\n",
              " 11,\n",
              " 15,\n",
              " 22,\n",
              " 134,\n",
              " 44,\n",
              " 11,\n",
              " 15,\n",
              " 16,\n",
              " 8,\n",
              " 197,\n",
              " 1245,\n",
              " 90,\n",
              " 67,\n",
              " 52,\n",
              " 29,\n",
              " 209,\n",
              " 30,\n",
              " 32,\n",
              " 132,\n",
              " 6,\n",
              " 109,\n",
              " 15,\n",
              " 17,\n",
              " 12]"
            ]
          },
          "metadata": {
            "tags": []
          },
          "execution_count": 4
        }
      ]
    },
    {
      "cell_type": "markdown",
      "metadata": {
        "id": "kIvaOPin3ohj",
        "colab_type": "text"
      },
      "source": [
        "Here's how you can decode it back to words, in case you are curious:"
      ]
    },
    {
      "cell_type": "code",
      "metadata": {
        "id": "EZg6ME3Y3ohk",
        "colab_type": "code",
        "colab": {
          "base_uri": "https://localhost:8080/",
          "height": 88
        },
        "outputId": "54433985-3803-4c3f-e4b3-aa4c89e90ae4"
      },
      "source": [
        "word_index = reuters.get_word_index()\n",
        "reverse_word_index = dict([(value, key) for (key, value) in word_index.items()])\n",
        "# Note that our indices were offset by 3\n",
        "# because 0, 1 and 2 are reserved indices for \"padding\", \"start of sequence\", and \"unknown\".\n",
        "decoded_newswire = ' '.join([reverse_word_index.get(i - 3, '?') for i in train_data[0]])\n",
        "\n",
        "print(\"The decoded text:\" + decoded_newswire)"
      ],
      "execution_count": 5,
      "outputs": [
        {
          "output_type": "stream",
          "text": [
            "Downloading data from https://s3.amazonaws.com/text-datasets/reuters_word_index.json\n",
            "557056/550378 [==============================] - 1s 2us/step\n",
            "The decoded text:? ? ? said as a result of its december acquisition of space co it expects earnings per share in 1987 of 1 15 to 1 30 dlrs per share up from 70 cts in 1986 the company said pretax net should rise to nine to 10 mln dlrs from six mln dlrs in 1986 and rental operation revenues to 19 to 22 mln dlrs from 12 5 mln dlrs it said cash flow per share this year should be 2 50 to three dlrs reuter 3\n"
          ],
          "name": "stdout"
        }
      ]
    },
    {
      "cell_type": "markdown",
      "metadata": {
        "id": "yntI1JS33oho",
        "colab_type": "text"
      },
      "source": [
        "The label associated with an example is an integer between 0 and 45: a topic index."
      ]
    },
    {
      "cell_type": "code",
      "metadata": {
        "id": "swMqUzqz3ohq",
        "colab_type": "code",
        "colab": {
          "base_uri": "https://localhost:8080/",
          "height": 34
        },
        "outputId": "4dbe824d-21e8-476a-c127-d3e3600f9815"
      },
      "source": [
        "train_labels[0]"
      ],
      "execution_count": 6,
      "outputs": [
        {
          "output_type": "execute_result",
          "data": {
            "text/plain": [
              "3"
            ]
          },
          "metadata": {
            "tags": []
          },
          "execution_count": 6
        }
      ]
    },
    {
      "cell_type": "markdown",
      "metadata": {
        "id": "fsLn40NK3oht",
        "colab_type": "text"
      },
      "source": [
        "## Preparing the data\n",
        "\n",
        "We can vectorize the data with the exact same code as in our previous example:"
      ]
    },
    {
      "cell_type": "code",
      "metadata": {
        "id": "NDol7z_43ohu",
        "colab_type": "code",
        "colab": {}
      },
      "source": [
        "import numpy as np\n",
        "\n",
        "def vectorize_sequences(sequences, dimension=10000):\n",
        "    results = np.zeros((len(sequences), dimension))\n",
        "    for i, sequence in enumerate(sequences):\n",
        "        results[i, sequence] = 1.\n",
        "    return results\n",
        "\n",
        "# Our vectorized training data\n",
        "x_train = vectorize_sequences(train_data)\n",
        "# Our vectorized test data\n",
        "x_test = vectorize_sequences(test_data)"
      ],
      "execution_count": 0,
      "outputs": []
    },
    {
      "cell_type": "markdown",
      "metadata": {
        "id": "9pte7Qr63ohv",
        "colab_type": "text"
      },
      "source": [
        "\n",
        "Use \"one-hot\" encoding to vectorize the labels. One-hot encoding is a widely used format for categorical data, also called \"categorical encoding\". In our case, one-hot encoding of our labels consists in embedding each label as an all-zero vector with a 1 in the place of the label index. Note that there is a built-in way to do this in Keras."
      ]
    },
    {
      "cell_type": "code",
      "metadata": {
        "id": "XO_SmjOD3ohy",
        "colab_type": "code",
        "colab": {}
      },
      "source": [
        "from keras.utils.np_utils import to_categorical\n",
        "\n",
        "one_hot_train_labels = to_categorical(train_labels)\n",
        "one_hot_test_labels = to_categorical(test_labels)"
      ],
      "execution_count": 0,
      "outputs": []
    },
    {
      "cell_type": "markdown",
      "metadata": {
        "id": "rMvTFcc03ohz",
        "colab_type": "text"
      },
      "source": [
        "## Building our network\n",
        "\n",
        "\n",
        "This topic classification problem looks very similar to our previous movie review classification problem: in both cases, we are trying to \n",
        "classify short snippets of text. There is however a new constraint here: the number of output classes has gone from 2 to 46, i.e. the \n",
        "dimensionality of the output space is much larger. \n",
        "\n",
        "In a stack of `Dense` layers like what we were using, each layer can only access information present in the output of the previous layer. \n",
        "If one layer drops some information relevant to the classification problem, this information can never be recovered by later layers: each \n",
        "layer can potentially become an \"information bottleneck\". In our previous example, we were using 16-dimensional intermediate layers, but a \n",
        "16-dimensional space may be too limited to learn to separate 46 different classes: such small layers may act as information bottlenecks, \n",
        "permanently dropping relevant information.\n",
        "\n",
        "For this reason we will use larger layers. Let's go with 64 units:"
      ]
    },
    {
      "cell_type": "code",
      "metadata": {
        "id": "HdhwRTjx3ohz",
        "colab_type": "code",
        "colab": {
          "base_uri": "https://localhost:8080/",
          "height": 255
        },
        "outputId": "f5facad3-7111-4385-f26f-8df01b07a646"
      },
      "source": [
        "from keras import models\n",
        "from keras import layers\n",
        "\n",
        "# TODO: specify the architecture of the model.\n",
        "model = models.Sequential()\n",
        "model.add(layers.Dense(64, activation='relu', input_shape=(10000,)))\n",
        "model.add(layers.Dense(64, activation='relu'))\n",
        "model.add(layers.Dense(46, activation='softmax'))\n",
        "\n",
        "model.summary()"
      ],
      "execution_count": 12,
      "outputs": [
        {
          "output_type": "stream",
          "text": [
            "Model: \"sequential_2\"\n",
            "_________________________________________________________________\n",
            "Layer (type)                 Output Shape              Param #   \n",
            "=================================================================\n",
            "dense_4 (Dense)              (None, 64)                640064    \n",
            "_________________________________________________________________\n",
            "dense_5 (Dense)              (None, 64)                4160      \n",
            "_________________________________________________________________\n",
            "dense_6 (Dense)              (None, 46)                2990      \n",
            "=================================================================\n",
            "Total params: 647,214\n",
            "Trainable params: 647,214\n",
            "Non-trainable params: 0\n",
            "_________________________________________________________________\n"
          ],
          "name": "stdout"
        }
      ]
    },
    {
      "cell_type": "markdown",
      "metadata": {
        "id": "V-Aj666N3oh1",
        "colab_type": "text"
      },
      "source": [
        "\n",
        "There are two other things you should note about this architecture:\n",
        "\n",
        "* We are ending the network with a `Dense` layer of size 46. This means that for each input sample, our network will output a \n",
        "46-dimensional vector. Each entry in this vector (each dimension) will encode a different output class.\n",
        "* The last layer uses a `softmax` activation. You have already seen this pattern in the MNIST example. It means that the network will \n",
        "output a _probability distribution_ over the 46 different output classes, i.e. for every input sample, the network will produce a \n",
        "46-dimensional output vector where `output[i]` is the probability that the sample belongs to class `i`. The 46 scores will sum to 1.\n",
        "\n",
        "The best loss function to use in this case is `categorical_crossentropy`. It measures the distance between two probability distributions: \n",
        "in our case, between the probability distribution output by our network, and the true distribution of the labels. By minimizing the \n",
        "distance between these two distributions, we train our network to output something as close as possible to the true labels."
      ]
    },
    {
      "cell_type": "code",
      "metadata": {
        "id": "AhmA6zNZ3oh1",
        "colab_type": "code",
        "colab": {}
      },
      "source": [
        "# TODO: compile the model you just built\n",
        "\n",
        "from keras import optimizers\n",
        "from keras import losses\n",
        "from keras import metrics\n",
        "\n",
        "model.compile(optimizer=optimizers.RMSprop(lr=0.001),\n",
        "              loss=losses.categorical_crossentropy,\n",
        "              metrics=[metrics.categorical_accuracy])"
      ],
      "execution_count": 0,
      "outputs": []
    },
    {
      "cell_type": "markdown",
      "metadata": {
        "id": "TGB_cp8B3oh2",
        "colab_type": "text"
      },
      "source": [
        "## Validating our approach\n",
        "\n",
        "Let's set apart 1,000 samples in our training data to use as a validation set:"
      ]
    },
    {
      "cell_type": "code",
      "metadata": {
        "id": "Y3eyzgOA3oh2",
        "colab_type": "code",
        "colab": {}
      },
      "source": [
        "x_val = x_train[:1000]\n",
        "partial_x_train = x_train[1000:]\n",
        "\n",
        "y_val = one_hot_train_labels[:1000]\n",
        "partial_y_train = one_hot_train_labels[1000:]"
      ],
      "execution_count": 0,
      "outputs": []
    },
    {
      "cell_type": "markdown",
      "metadata": {
        "id": "vIFUZkt43oh3",
        "colab_type": "text"
      },
      "source": [
        "Now let's train our network for 20 epochs:"
      ]
    },
    {
      "cell_type": "code",
      "metadata": {
        "id": "MM57jbod3oh3",
        "colab_type": "code",
        "colab": {
          "base_uri": "https://localhost:8080/",
          "height": 734
        },
        "outputId": "ee6598f0-2258-430e-d42b-b29f9e10ea54"
      },
      "source": [
        "# TODO: fit the model with the training dataset and provide validation data \n",
        "# to help check overfitting\n",
        "history = history = model.fit(partial_x_train, partial_y_train, epochs=20, \n",
        "                              batch_size=512, validation_data=(x_val, y_val))"
      ],
      "execution_count": 20,
      "outputs": [
        {
          "output_type": "stream",
          "text": [
            "Train on 7982 samples, validate on 1000 samples\n",
            "Epoch 1/20\n",
            "7982/7982 [==============================] - 2s 197us/step - loss: 2.6075 - categorical_accuracy: 0.5159 - val_loss: 1.7086 - val_categorical_accuracy: 0.6380\n",
            "Epoch 2/20\n",
            "7982/7982 [==============================] - 1s 127us/step - loss: 1.4010 - categorical_accuracy: 0.7136 - val_loss: 1.2942 - val_categorical_accuracy: 0.7230\n",
            "Epoch 3/20\n",
            "7982/7982 [==============================] - 1s 129us/step - loss: 1.0285 - categorical_accuracy: 0.7783 - val_loss: 1.1139 - val_categorical_accuracy: 0.7740\n",
            "Epoch 4/20\n",
            "7982/7982 [==============================] - 1s 127us/step - loss: 0.7992 - categorical_accuracy: 0.8305 - val_loss: 1.0352 - val_categorical_accuracy: 0.7810\n",
            "Epoch 5/20\n",
            "7982/7982 [==============================] - 1s 126us/step - loss: 0.6334 - categorical_accuracy: 0.8656 - val_loss: 0.9732 - val_categorical_accuracy: 0.8130\n",
            "Epoch 6/20\n",
            "7982/7982 [==============================] - 1s 127us/step - loss: 0.5047 - categorical_accuracy: 0.8969 - val_loss: 0.9167 - val_categorical_accuracy: 0.8150\n",
            "Epoch 7/20\n",
            "7982/7982 [==============================] - 1s 127us/step - loss: 0.4072 - categorical_accuracy: 0.9157 - val_loss: 0.9046 - val_categorical_accuracy: 0.8190\n",
            "Epoch 8/20\n",
            "7982/7982 [==============================] - 1s 128us/step - loss: 0.3281 - categorical_accuracy: 0.9323 - val_loss: 0.9310 - val_categorical_accuracy: 0.8140\n",
            "Epoch 9/20\n",
            "7982/7982 [==============================] - 1s 128us/step - loss: 0.2751 - categorical_accuracy: 0.9382 - val_loss: 0.8978 - val_categorical_accuracy: 0.8180\n",
            "Epoch 10/20\n",
            "7982/7982 [==============================] - 1s 128us/step - loss: 0.2307 - categorical_accuracy: 0.9459 - val_loss: 0.9181 - val_categorical_accuracy: 0.8190\n",
            "Epoch 11/20\n",
            "7982/7982 [==============================] - 1s 128us/step - loss: 0.1999 - categorical_accuracy: 0.9511 - val_loss: 0.9525 - val_categorical_accuracy: 0.8080\n",
            "Epoch 12/20\n",
            "7982/7982 [==============================] - 1s 127us/step - loss: 0.1793 - categorical_accuracy: 0.9518 - val_loss: 1.0069 - val_categorical_accuracy: 0.8140\n",
            "Epoch 13/20\n",
            "7982/7982 [==============================] - 1s 128us/step - loss: 0.1626 - categorical_accuracy: 0.9541 - val_loss: 1.0047 - val_categorical_accuracy: 0.8100\n",
            "Epoch 14/20\n",
            "7982/7982 [==============================] - 1s 128us/step - loss: 0.1476 - categorical_accuracy: 0.9560 - val_loss: 0.9867 - val_categorical_accuracy: 0.8060\n",
            "Epoch 15/20\n",
            "7982/7982 [==============================] - 1s 125us/step - loss: 0.1422 - categorical_accuracy: 0.9562 - val_loss: 1.0032 - val_categorical_accuracy: 0.8040\n",
            "Epoch 16/20\n",
            "7982/7982 [==============================] - 1s 126us/step - loss: 0.1307 - categorical_accuracy: 0.9567 - val_loss: 1.0273 - val_categorical_accuracy: 0.8120\n",
            "Epoch 17/20\n",
            "7982/7982 [==============================] - 1s 126us/step - loss: 0.1219 - categorical_accuracy: 0.9580 - val_loss: 1.0478 - val_categorical_accuracy: 0.8140\n",
            "Epoch 18/20\n",
            "7982/7982 [==============================] - 1s 125us/step - loss: 0.1178 - categorical_accuracy: 0.9575 - val_loss: 1.0473 - val_categorical_accuracy: 0.8130\n",
            "Epoch 19/20\n",
            "7982/7982 [==============================] - 1s 126us/step - loss: 0.1154 - categorical_accuracy: 0.9568 - val_loss: 1.0938 - val_categorical_accuracy: 0.8140\n",
            "Epoch 20/20\n",
            "7982/7982 [==============================] - 1s 126us/step - loss: 0.1152 - categorical_accuracy: 0.9563 - val_loss: 1.1545 - val_categorical_accuracy: 0.7940\n"
          ],
          "name": "stdout"
        }
      ]
    },
    {
      "cell_type": "markdown",
      "metadata": {
        "id": "Rq5P0gWQ3oh5",
        "colab_type": "text"
      },
      "source": [
        "Let's display its loss and accuracy curves to help identify when it starts to overfit."
      ]
    },
    {
      "cell_type": "code",
      "metadata": {
        "id": "EIRFHE0U3oh5",
        "colab_type": "code",
        "colab": {
          "base_uri": "https://localhost:8080/",
          "height": 312
        },
        "outputId": "a40004a8-b552-4ee0-8c3b-6f1a014147f8"
      },
      "source": [
        "import matplotlib.pyplot as plt\n",
        "\n",
        "# TODO: plot the model loss on both training and validation data. \n",
        "\n",
        "acc = history.history['categorical_accuracy']\n",
        "val_acc = history.history['val_categorical_accuracy']\n",
        "loss = history.history['loss']\n",
        "val_loss = history.history['val_loss']\n",
        "\n",
        "epochs = range(1, len(acc) + 1)\n",
        "\n",
        "plt.plot(epochs, loss, 'bo', label='Training loss')\n",
        "plt.plot(epochs, val_loss, 'b', label='Validation loss')\n",
        "plt.title('Training and validation loss')\n",
        "plt.xlabel('Epochs')\n",
        "plt.ylabel('Loss')\n",
        "plt.legend()"
      ],
      "execution_count": 25,
      "outputs": [
        {
          "output_type": "execute_result",
          "data": {
            "text/plain": [
              "<matplotlib.legend.Legend at 0x7f04f0cbc198>"
            ]
          },
          "metadata": {
            "tags": []
          },
          "execution_count": 25
        },
        {
          "output_type": "display_data",
          "data": {
            "image/png": "[encoded data removed]",
            "text/plain": [
              "<Figure size 432x288 with 1 Axes>"
            ]
          },
          "metadata": {
            "tags": [],
            "needs_background": "light"
          }
        }
      ]
    },
    {
      "cell_type": "code",
      "metadata": {
        "id": "M69rtt143oh6",
        "colab_type": "code",
        "colab": {
          "base_uri": "https://localhost:8080/",
          "height": 295
        },
        "outputId": "6e44682e-b888-47a7-cb16-8fd9f7edf444"
      },
      "source": [
        "# TODO: plot prediction accuracy on both training and validation data. \n",
        "plt.clf()\n",
        "acc = history.history['categorical_accuracy']\n",
        "val_acc = history.history['val_categorical_accuracy']\n",
        "\n",
        "plt.plot(epochs, acc, 'bo', label='Training acc')\n",
        "plt.plot(epochs, val_acc, 'b', label='Validation acc')\n",
        "plt.title('Training and validation accuracy')\n",
        "plt.xlabel('Epochs')\n",
        "plt.ylabel('Loss')\n",
        "plt.legend()\n",
        "\n",
        "plt.show()"
      ],
      "execution_count": 26,
      "outputs": [
        {
          "output_type": "display_data",
          "data": {
            "image/png": "[encoded data removed]",
            "text/plain": [
              "<Figure size 432x288 with 1 Axes>"
            ]
          },
          "metadata": {
            "tags": [],
            "needs_background": "light"
          }
        }
      ]
    },
    {
      "cell_type": "markdown",
      "metadata": {
        "id": "LUarkgZd3oh7",
        "colab_type": "text"
      },
      "source": [
        "It seems that the network starts overfitting after certain epochs. Let's train a new network from scratch for fewer epochs before it starts overfitting, then let's evaluate it on the test set:"
      ]
    },
    {
      "cell_type": "code",
      "metadata": {
        "id": "IciZ2dMP3oh8",
        "colab_type": "code",
        "colab": {
          "base_uri": "https://localhost:8080/",
          "height": 377
        },
        "outputId": "7ac266a0-2856-4991-da2b-69326bf2b8db"
      },
      "source": [
        "# TODO: retrain the model with the fewer epoches to avoid overfitting\n",
        "model = models.Sequential()\n",
        "model.add(layers.Dense(64, activation='relu', input_shape=(10000,)))\n",
        "model.add(layers.Dense(64, activation='relu'))\n",
        "model.add(layers.Dense(46, activation='softmax'))\n",
        "\n",
        "model.compile(optimizer = 'rmsprop', loss='categorical_crossentropy', metrics=['accuracy'])\n",
        "\n",
        "model.fit( partial_x_train, partial_y_train, epochs=9, batch_size=512, validation_data=(x_val, y_val))"
      ],
      "execution_count": 28,
      "outputs": [
        {
          "output_type": "stream",
          "text": [
            "Train on 7982 samples, validate on 1000 samples\n",
            "Epoch 1/9\n",
            "7982/7982 [==============================] - 1s 147us/step - loss: 2.6893 - accuracy: 0.5563 - val_loss: 1.7410 - val_accuracy: 0.6570\n",
            "Epoch 2/9\n",
            "7982/7982 [==============================] - 1s 129us/step - loss: 1.3999 - accuracy: 0.7100 - val_loss: 1.3073 - val_accuracy: 0.7200\n",
            "Epoch 3/9\n",
            "7982/7982 [==============================] - 1s 131us/step - loss: 1.0305 - accuracy: 0.7798 - val_loss: 1.1398 - val_accuracy: 0.7510\n",
            "Epoch 4/9\n",
            "7982/7982 [==============================] - 1s 128us/step - loss: 0.8135 - accuracy: 0.8312 - val_loss: 1.0338 - val_accuracy: 0.7950\n",
            "Epoch 5/9\n",
            "7982/7982 [==============================] - 1s 130us/step - loss: 0.6431 - accuracy: 0.8690 - val_loss: 0.9793 - val_accuracy: 0.7930\n",
            "Epoch 6/9\n",
            "7982/7982 [==============================] - 1s 129us/step - loss: 0.5151 - accuracy: 0.8974 - val_loss: 0.9344 - val_accuracy: 0.8040\n",
            "Epoch 7/9\n",
            "7982/7982 [==============================] - 1s 130us/step - loss: 0.4142 - accuracy: 0.9161 - val_loss: 0.9216 - val_accuracy: 0.8130\n",
            "Epoch 8/9\n",
            "7982/7982 [==============================] - 1s 132us/step - loss: 0.3362 - accuracy: 0.9305 - val_loss: 0.9093 - val_accuracy: 0.8140\n",
            "Epoch 9/9\n",
            "7982/7982 [==============================] - 1s 130us/step - loss: 0.2744 - accuracy: 0.9406 - val_loss: 0.9321 - val_accuracy: 0.8080\n"
          ],
          "name": "stdout"
        },
        {
          "output_type": "execute_result",
          "data": {
            "text/plain": [
              "<keras.callbacks.callbacks.History at 0x7f04f2b266a0>"
            ]
          },
          "metadata": {
            "tags": []
          },
          "execution_count": 28
        }
      ]
    },
    {
      "cell_type": "markdown",
      "metadata": {
        "id": "XQ3VcXyx3oh_",
        "colab_type": "text"
      },
      "source": [
        "\n",
        "Your model should reach an accuracy of ~78%. With a balanced binary classification problem, the accuracy reached by a purely random classifier \n",
        "would be 50%, but in our case it is closer to 19%, so our results seem pretty good, at least when compared to a random baseline."
      ]
    },
    {
      "cell_type": "markdown",
      "metadata": {
        "id": "FEzjb1m33oiA",
        "colab_type": "text"
      },
      "source": [
        "## Generating predictions on new data\n",
        "\n",
        "We can verify that the `predict` method of our model instance returns a probability distribution over all 46 topics. Let's generate topic \n",
        "predictions for all of the test data:"
      ]
    },
    {
      "cell_type": "code",
      "metadata": {
        "id": "lIuTWvUq3oiB",
        "colab_type": "code",
        "colab": {
          "base_uri": "https://localhost:8080/",
          "height": 238
        },
        "outputId": "947bafa3-c5d0-44ee-a766-6db6beef9cd7"
      },
      "source": [
        "# TODO: use the learnt neural network to make a prediction on \n",
        "# the test data \n",
        "predict = model.predict(x_test)\n",
        "predict"
      ],
      "execution_count": 29,
      "outputs": [
        {
          "output_type": "execute_result",
          "data": {
            "text/plain": [
              "array([[4.31233002e-06, 6.90595925e-06, 1.36663548e-05, ...,\n",
              "        1.44081550e-05, 5.63186120e-07, 1.78323376e-06],\n",
              "       [1.86676520e-03, 7.83132166e-02, 2.02660868e-03, ...,\n",
              "        8.35797051e-04, 1.42953177e-05, 3.60932492e-04],\n",
              "       [1.64196678e-02, 8.86717081e-01, 3.69732617e-03, ...,\n",
              "        5.98662125e-04, 1.03705686e-04, 3.97050841e-04],\n",
              "       ...,\n",
              "       [7.71724990e-06, 1.89128095e-05, 6.49017456e-05, ...,\n",
              "        2.72528414e-05, 1.85898830e-06, 1.62415915e-06],\n",
              "       [5.80018561e-04, 7.57178990e-03, 3.17204418e-03, ...,\n",
              "        5.20201284e-04, 9.58092278e-05, 5.97224804e-04],\n",
              "       [2.15016829e-04, 2.88763613e-01, 6.07406115e-03, ...,\n",
              "        2.66141212e-03, 4.82790289e-04, 1.38231000e-04]], dtype=float32)"
            ]
          },
          "metadata": {
            "tags": []
          },
          "execution_count": 29
        }
      ]
    },
    {
      "cell_type": "markdown",
      "metadata": {
        "id": "O1LzmGXx3oiB",
        "colab_type": "text"
      },
      "source": [
        "Each entry in `predictions` is a vector of length 46. **The** largest entry is the predicted class, i.e. the class with the highest probability:"
      ]
    },
    {
      "cell_type": "code",
      "metadata": {
        "id": "L3RyKAsw3oiB",
        "colab_type": "code",
        "colab": {
          "base_uri": "https://localhost:8080/",
          "height": 34
        },
        "outputId": "129e6660-8c6a-4f92-981d-e4cc893df102"
      },
      "source": [
        "# TODO: evaluate model performan in terms of accuracy on prediction against the ground truth.\n",
        "test_loss, test_acc=model.evaluate(x_test,predict)"
      ],
      "execution_count": 30,
      "outputs": [
        {
          "output_type": "stream",
          "text": [
            "2246/2246 [==============================] - 0s 111us/step\n"
          ],
          "name": "stdout"
        }
      ]
    },
    {
      "cell_type": "code",
      "metadata": {
        "id": "hHHat87YBoKC",
        "colab_type": "code",
        "colab": {
          "base_uri": "https://localhost:8080/",
          "height": 34
        },
        "outputId": "3398fb32-1104-4628-a758-abfe129f79d8"
      },
      "source": [
        "predict.shape"
      ],
      "execution_count": 31,
      "outputs": [
        {
          "output_type": "execute_result",
          "data": {
            "text/plain": [
              "(2246, 46)"
            ]
          },
          "metadata": {
            "tags": []
          },
          "execution_count": 31
        }
      ]
    },
    {
      "cell_type": "code",
      "metadata": {
        "id": "zRn5VgMFBuD-",
        "colab_type": "code",
        "colab": {
          "base_uri": "https://localhost:8080/",
          "height": 34
        },
        "outputId": "f45707b2-c4f7-45a9-df3a-63a760f6cfa2"
      },
      "source": [
        "print('test_acc:', test_acc)"
      ],
      "execution_count": 32,
      "outputs": [
        {
          "output_type": "stream",
          "text": [
            "test_acc: 1.0\n"
          ],
          "name": "stdout"
        }
      ]
    },
    {
      "cell_type": "markdown",
      "metadata": {
        "id": "Pw3GlSYG3oiH",
        "colab_type": "text"
      },
      "source": [
        "## On the importance of having sufficiently large intermediate layers\n",
        "\n",
        "\n",
        "We mentioned earlier that since our final outputs were 46-dimensional, we should avoid intermediate layers with much less than 46 hidden \n",
        "units. Now let's try to see what happens when we introduce an information bottleneck by having intermediate layers significantly less than \n",
        "46-dimensional, e.g. 4-dimensional."
      ]
    },
    {
      "cell_type": "code",
      "metadata": {
        "id": "emfKokRe3oiH",
        "colab_type": "code",
        "colab": {
          "base_uri": "https://localhost:8080/",
          "height": 751
        },
        "outputId": "90f50f56-90dc-4d42-816c-7d3d5fdef670"
      },
      "source": [
        "# TODO: build a neural network with 4 neuron units in the hidden layer with the validation data \n",
        "# and evaluate its performance on the test data.\n",
        "model_2 = models.Sequential()\n",
        "model_2.add(layers.Dense(64, activation='relu', input_shape=(10000,)))\n",
        "model_2.add(layers.Dense(4, activation='relu'))\n",
        "model_2.add(layers.Dense(46, activation='softmax')) \n",
        "\n",
        "model_2.compile( optimizer = 'rmsprop', loss='categorical_crossentropy', metrics=['accuracy'])\n",
        "\n",
        "model_2.fit(partial_x_train, partial_y_train, epochs=20, batch_size=512, validation_data=(x_val, y_val))"
      ],
      "execution_count": 33,
      "outputs": [
        {
          "output_type": "stream",
          "text": [
            "Train on 7982 samples, validate on 1000 samples\n",
            "Epoch 1/20\n",
            "7982/7982 [==============================] - 1s 174us/step - loss: 3.5881 - accuracy: 0.1131 - val_loss: 3.3488 - val_accuracy: 0.2700\n",
            "Epoch 2/20\n",
            "7982/7982 [==============================] - 1s 128us/step - loss: 3.1625 - accuracy: 0.2717 - val_loss: 3.0549 - val_accuracy: 0.2680\n",
            "Epoch 3/20\n",
            "7982/7982 [==============================] - 1s 128us/step - loss: 2.8639 - accuracy: 0.2767 - val_loss: 2.8414 - val_accuracy: 0.2680\n",
            "Epoch 4/20\n",
            "7982/7982 [==============================] - 1s 126us/step - loss: 2.6470 - accuracy: 0.2864 - val_loss: 2.6895 - val_accuracy: 0.2770\n",
            "Epoch 5/20\n",
            "7982/7982 [==============================] - 1s 128us/step - loss: 2.4723 - accuracy: 0.2998 - val_loss: 2.5592 - val_accuracy: 0.2820\n",
            "Epoch 6/20\n",
            "7982/7982 [==============================] - 1s 126us/step - loss: 2.3057 - accuracy: 0.3106 - val_loss: 2.4233 - val_accuracy: 0.2920\n",
            "Epoch 7/20\n",
            "7982/7982 [==============================] - 1s 127us/step - loss: 2.1364 - accuracy: 0.3210 - val_loss: 2.2914 - val_accuracy: 0.2950\n",
            "Epoch 8/20\n",
            "7982/7982 [==============================] - 1s 127us/step - loss: 1.9485 - accuracy: 0.3311 - val_loss: 2.1062 - val_accuracy: 0.3060\n",
            "Epoch 9/20\n",
            "7982/7982 [==============================] - 1s 127us/step - loss: 1.7304 - accuracy: 0.3865 - val_loss: 1.8967 - val_accuracy: 0.5170\n",
            "Epoch 10/20\n",
            "7982/7982 [==============================] - 1s 125us/step - loss: 1.4819 - accuracy: 0.6330 - val_loss: 1.6909 - val_accuracy: 0.6100\n",
            "Epoch 11/20\n",
            "7982/7982 [==============================] - 1s 125us/step - loss: 1.2580 - accuracy: 0.6869 - val_loss: 1.5418 - val_accuracy: 0.6490\n",
            "Epoch 12/20\n",
            "7982/7982 [==============================] - 1s 126us/step - loss: 1.1068 - accuracy: 0.7154 - val_loss: 1.4665 - val_accuracy: 0.6600\n",
            "Epoch 13/20\n",
            "7982/7982 [==============================] - 1s 130us/step - loss: 1.0116 - accuracy: 0.7314 - val_loss: 1.4178 - val_accuracy: 0.6680\n",
            "Epoch 14/20\n",
            "7982/7982 [==============================] - 1s 125us/step - loss: 0.9468 - accuracy: 0.7385 - val_loss: 1.4071 - val_accuracy: 0.6730\n",
            "Epoch 15/20\n",
            "7982/7982 [==============================] - 1s 125us/step - loss: 0.8944 - accuracy: 0.7595 - val_loss: 1.4260 - val_accuracy: 0.6850\n",
            "Epoch 16/20\n",
            "7982/7982 [==============================] - 1s 126us/step - loss: 0.8487 - accuracy: 0.7839 - val_loss: 1.4204 - val_accuracy: 0.6950\n",
            "Epoch 17/20\n",
            "7982/7982 [==============================] - 1s 125us/step - loss: 0.8111 - accuracy: 0.7944 - val_loss: 1.4145 - val_accuracy: 0.6970\n",
            "Epoch 18/20\n",
            "7982/7982 [==============================] - 1s 126us/step - loss: 0.7736 - accuracy: 0.8026 - val_loss: 1.4228 - val_accuracy: 0.7010\n",
            "Epoch 19/20\n",
            "7982/7982 [==============================] - 1s 127us/step - loss: 0.7418 - accuracy: 0.8093 - val_loss: 1.4348 - val_accuracy: 0.7070\n",
            "Epoch 20/20\n",
            "7982/7982 [==============================] - 1s 127us/step - loss: 0.7127 - accuracy: 0.8143 - val_loss: 1.4456 - val_accuracy: 0.7120\n"
          ],
          "name": "stdout"
        },
        {
          "output_type": "execute_result",
          "data": {
            "text/plain": [
              "<keras.callbacks.callbacks.History at 0x7f04f2cc73c8>"
            ]
          },
          "metadata": {
            "tags": []
          },
          "execution_count": 33
        }
      ]
    },
    {
      "cell_type": "markdown",
      "metadata": {
        "id": "M6wV_AR23oiI",
        "colab_type": "text"
      },
      "source": [
        "\n",
        "You should see the model performance drop. This drop is mostly due to the fact that we are now trying to compress a lot of information (enough information to recover the separation hyperplanes of 46 classes) into an intermediate space that is too low-dimensional. The network is able to cram _most_ of the necessary information into these 8-dimensional representations, but not all of it."
      ]
    },
    {
      "cell_type": "markdown",
      "metadata": {
        "id": "8bFLuR8b3oiI",
        "colab_type": "text"
      },
      "source": [
        "## Try using larger or smaller hidden layers: 32 units, and 128 units, and see if you will be able to improve the model performance on the test data.\n"
      ]
    },
    {
      "cell_type": "code",
      "metadata": {
        "id": "B1v7pFMGrEik",
        "colab_type": "code",
        "colab": {
          "base_uri": "https://localhost:8080/",
          "height": 751
        },
        "outputId": "4b58cad4-3af0-45c7-fe38-c049d23f4498"
      },
      "source": [
        "# TODO: Try using larger or smaller hidden layers: 32 units, and 128 units\n",
        "model_3 = models.Sequential()\n",
        "model_3.add(layers.Dense(64, activation='relu', input_shape=(10000,)))\n",
        "model_3.add(layers.Dense(32, activation='relu'))\n",
        "model_3.add(layers.Dense(46, activation='softmax')) \n",
        "\n",
        "model_3.compile( optimizer = 'rmsprop', loss='categorical_crossentropy', metrics=['accuracy'])\n",
        "\n",
        "model_3.fit(partial_x_train, partial_y_train, epochs=20, batch_size=512, validation_data=(x_val, y_val))"
      ],
      "execution_count": 34,
      "outputs": [
        {
          "output_type": "stream",
          "text": [
            "Train on 7982 samples, validate on 1000 samples\n",
            "Epoch 1/20\n",
            "7982/7982 [==============================] - 1s 145us/step - loss: 2.7263 - accuracy: 0.4703 - val_loss: 1.8805 - val_accuracy: 0.6040\n",
            "Epoch 2/20\n",
            "7982/7982 [==============================] - 1s 125us/step - loss: 1.5398 - accuracy: 0.6770 - val_loss: 1.3931 - val_accuracy: 0.7000\n",
            "Epoch 3/20\n",
            "7982/7982 [==============================] - 1s 127us/step - loss: 1.1390 - accuracy: 0.7605 - val_loss: 1.2267 - val_accuracy: 0.7520\n",
            "Epoch 4/20\n",
            "7982/7982 [==============================] - 1s 127us/step - loss: 0.9095 - accuracy: 0.8103 - val_loss: 1.1004 - val_accuracy: 0.7720\n",
            "Epoch 5/20\n",
            "7982/7982 [==============================] - 1s 127us/step - loss: 0.7364 - accuracy: 0.8522 - val_loss: 1.0143 - val_accuracy: 0.7880\n",
            "Epoch 6/20\n",
            "7982/7982 [==============================] - 1s 126us/step - loss: 0.5982 - accuracy: 0.8815 - val_loss: 0.9815 - val_accuracy: 0.7930\n",
            "Epoch 7/20\n",
            "7982/7982 [==============================] - 1s 127us/step - loss: 0.4921 - accuracy: 0.8980 - val_loss: 0.9429 - val_accuracy: 0.7990\n",
            "Epoch 8/20\n",
            "7982/7982 [==============================] - 1s 127us/step - loss: 0.4040 - accuracy: 0.9173 - val_loss: 0.9242 - val_accuracy: 0.8090\n",
            "Epoch 9/20\n",
            "7982/7982 [==============================] - 1s 129us/step - loss: 0.3346 - accuracy: 0.9286 - val_loss: 0.9173 - val_accuracy: 0.8040\n",
            "Epoch 10/20\n",
            "7982/7982 [==============================] - 1s 128us/step - loss: 0.2840 - accuracy: 0.9352 - val_loss: 0.9357 - val_accuracy: 0.8100\n",
            "Epoch 11/20\n",
            "7982/7982 [==============================] - 1s 130us/step - loss: 0.2428 - accuracy: 0.9435 - val_loss: 0.9359 - val_accuracy: 0.8080\n",
            "Epoch 12/20\n",
            "7982/7982 [==============================] - 1s 125us/step - loss: 0.2073 - accuracy: 0.9501 - val_loss: 0.9709 - val_accuracy: 0.8020\n",
            "Epoch 13/20\n",
            "7982/7982 [==============================] - 1s 128us/step - loss: 0.1877 - accuracy: 0.9508 - val_loss: 0.9596 - val_accuracy: 0.8210\n",
            "Epoch 14/20\n",
            "7982/7982 [==============================] - 1s 128us/step - loss: 0.1668 - accuracy: 0.9524 - val_loss: 1.0096 - val_accuracy: 0.8090\n",
            "Epoch 15/20\n",
            "7982/7982 [==============================] - 1s 127us/step - loss: 0.1533 - accuracy: 0.9543 - val_loss: 0.9569 - val_accuracy: 0.8140\n",
            "Epoch 16/20\n",
            "7982/7982 [==============================] - 1s 129us/step - loss: 0.1411 - accuracy: 0.9565 - val_loss: 0.9720 - val_accuracy: 0.8090\n",
            "Epoch 17/20\n",
            "7982/7982 [==============================] - 1s 128us/step - loss: 0.1356 - accuracy: 0.9553 - val_loss: 1.0084 - val_accuracy: 0.8100\n",
            "Epoch 18/20\n",
            "7982/7982 [==============================] - 1s 125us/step - loss: 0.1257 - accuracy: 0.9560 - val_loss: 1.0628 - val_accuracy: 0.8040\n",
            "Epoch 19/20\n",
            "7982/7982 [==============================] - 1s 128us/step - loss: 0.1172 - accuracy: 0.9583 - val_loss: 1.0724 - val_accuracy: 0.8020\n",
            "Epoch 20/20\n",
            "7982/7982 [==============================] - 1s 126us/step - loss: 0.1148 - accuracy: 0.9539 - val_loss: 1.1020 - val_accuracy: 0.7960\n"
          ],
          "name": "stdout"
        },
        {
          "output_type": "execute_result",
          "data": {
            "text/plain": [
              "<keras.callbacks.callbacks.History at 0x7f04f266ea20>"
            ]
          },
          "metadata": {
            "tags": []
          },
          "execution_count": 34
        }
      ]
    },
    {
      "cell_type": "code",
      "metadata": {
        "id": "kyr6RyynD4n8",
        "colab_type": "code",
        "colab": {
          "base_uri": "https://localhost:8080/",
          "height": 51
        },
        "outputId": "7d63bba0-7b63-4c12-8edf-10376fec4cb7"
      },
      "source": [
        "result = model_3.evaluate(x_test,one_hot_test_labels)\n",
        "print(result)"
      ],
      "execution_count": 35,
      "outputs": [
        {
          "output_type": "stream",
          "text": [
            "2246/2246 [==============================] - 0s 105us/step\n",
            "[1.2403340980821917, 0.7822796106338501]\n"
          ],
          "name": "stdout"
        }
      ]
    },
    {
      "cell_type": "code",
      "metadata": {
        "id": "3yEjftXLD-5_",
        "colab_type": "code",
        "colab": {
          "base_uri": "https://localhost:8080/",
          "height": 751
        },
        "outputId": "e4635d6d-c6c8-4c65-8590-82e46b4f37fc"
      },
      "source": [
        "model_4 = models.Sequential()\n",
        "model_4.add(layers.Dense(64, activation='relu', input_shape=(10000,)))\n",
        "model_4.add(layers.Dense(128, activation='relu'))\n",
        "model_4.add(layers.Dense(46, activation='softmax')) \n",
        "\n",
        "model_4.compile( optimizer = 'rmsprop', loss='categorical_crossentropy', metrics=['accuracy'])\n",
        "\n",
        "model_4.fit(partial_x_train, partial_y_train, epochs=20, batch_size=512, validation_data=(x_val, y_val))"
      ],
      "execution_count": 37,
      "outputs": [
        {
          "output_type": "stream",
          "text": [
            "Train on 7982 samples, validate on 1000 samples\n",
            "Epoch 1/20\n",
            "7982/7982 [==============================] - 1s 155us/step - loss: 2.5410 - accuracy: 0.5366 - val_loss: 1.6175 - val_accuracy: 0.6600\n",
            "Epoch 2/20\n",
            "7982/7982 [==============================] - 1s 130us/step - loss: 1.3504 - accuracy: 0.7096 - val_loss: 1.2560 - val_accuracy: 0.7170\n",
            "Epoch 3/20\n",
            "7982/7982 [==============================] - 1s 132us/step - loss: 1.0183 - accuracy: 0.7772 - val_loss: 1.0997 - val_accuracy: 0.7500\n",
            "Epoch 4/20\n",
            "7982/7982 [==============================] - 1s 134us/step - loss: 0.7909 - accuracy: 0.8289 - val_loss: 1.0096 - val_accuracy: 0.7760\n",
            "Epoch 5/20\n",
            "7982/7982 [==============================] - 1s 132us/step - loss: 0.6127 - accuracy: 0.8711 - val_loss: 0.9237 - val_accuracy: 0.8050\n",
            "Epoch 6/20\n",
            "7982/7982 [==============================] - 1s 131us/step - loss: 0.4797 - accuracy: 0.8980 - val_loss: 0.9015 - val_accuracy: 0.8160\n",
            "Epoch 7/20\n",
            "7982/7982 [==============================] - 1s 133us/step - loss: 0.3793 - accuracy: 0.9217 - val_loss: 0.8780 - val_accuracy: 0.8160\n",
            "Epoch 8/20\n",
            "7982/7982 [==============================] - 1s 132us/step - loss: 0.3090 - accuracy: 0.9325 - val_loss: 0.8791 - val_accuracy: 0.8140\n",
            "Epoch 9/20\n",
            "7982/7982 [==============================] - 1s 133us/step - loss: 0.2537 - accuracy: 0.9432 - val_loss: 0.8824 - val_accuracy: 0.8220\n",
            "Epoch 10/20\n",
            "7982/7982 [==============================] - 1s 132us/step - loss: 0.2085 - accuracy: 0.9500 - val_loss: 0.9336 - val_accuracy: 0.8170\n",
            "Epoch 11/20\n",
            "7982/7982 [==============================] - 1s 134us/step - loss: 0.1940 - accuracy: 0.9496 - val_loss: 0.9178 - val_accuracy: 0.8190\n",
            "Epoch 12/20\n",
            "7982/7982 [==============================] - 1s 133us/step - loss: 0.1681 - accuracy: 0.9516 - val_loss: 0.9619 - val_accuracy: 0.8110\n",
            "Epoch 13/20\n",
            "7982/7982 [==============================] - 1s 130us/step - loss: 0.1575 - accuracy: 0.9538 - val_loss: 0.9529 - val_accuracy: 0.8150\n",
            "Epoch 14/20\n",
            "7982/7982 [==============================] - 1s 132us/step - loss: 0.1380 - accuracy: 0.9548 - val_loss: 1.0211 - val_accuracy: 0.8070\n",
            "Epoch 15/20\n",
            "7982/7982 [==============================] - 1s 131us/step - loss: 0.1348 - accuracy: 0.9569 - val_loss: 0.9830 - val_accuracy: 0.8080\n",
            "Epoch 16/20\n",
            "7982/7982 [==============================] - 1s 131us/step - loss: 0.1337 - accuracy: 0.9544 - val_loss: 0.9654 - val_accuracy: 0.8150\n",
            "Epoch 17/20\n",
            "7982/7982 [==============================] - 1s 133us/step - loss: 0.1175 - accuracy: 0.9577 - val_loss: 1.0509 - val_accuracy: 0.8060\n",
            "Epoch 18/20\n",
            "7982/7982 [==============================] - 1s 131us/step - loss: 0.1248 - accuracy: 0.9580 - val_loss: 1.1339 - val_accuracy: 0.7920\n",
            "Epoch 19/20\n",
            "7982/7982 [==============================] - 1s 131us/step - loss: 0.1139 - accuracy: 0.9578 - val_loss: 1.1980 - val_accuracy: 0.7780\n",
            "Epoch 20/20\n",
            "7982/7982 [==============================] - 1s 131us/step - loss: 0.1120 - accuracy: 0.9583 - val_loss: 1.0700 - val_accuracy: 0.7940\n"
          ],
          "name": "stdout"
        },
        {
          "output_type": "execute_result",
          "data": {
            "text/plain": [
              "<keras.callbacks.callbacks.History at 0x7f04f1d840f0>"
            ]
          },
          "metadata": {
            "tags": []
          },
          "execution_count": 37
        }
      ]
    },
    {
      "cell_type": "code",
      "metadata": {
        "id": "lkCLX9PiD9V8",
        "colab_type": "code",
        "colab": {
          "base_uri": "https://localhost:8080/",
          "height": 51
        },
        "outputId": "a31161ed-ad5b-4993-9fa7-b3e9f776af37"
      },
      "source": [
        "result = model_4.evaluate(x_test,one_hot_test_labels)\n",
        "print(result)"
      ],
      "execution_count": 38,
      "outputs": [
        {
          "output_type": "stream",
          "text": [
            "2246/2246 [==============================] - 0s 99us/step\n",
            "[1.2411063613365085, 0.7889581322669983]\n"
          ],
          "name": "stdout"
        }
      ]
    },
    {
      "cell_type": "markdown",
      "metadata": {
        "id": "qJ1JPiTErD7X",
        "colab_type": "text"
      },
      "source": [
        "\n",
        "## We were using two hidden layers. Now try to use a single hidden layer, or three hidden layers, and see if you will be able to improve the model performance on the test data.\n",
        "\n"
      ]
    },
    {
      "cell_type": "code",
      "metadata": {
        "id": "6zukIClyrh3k",
        "colab_type": "code",
        "colab": {
          "base_uri": "https://localhost:8080/",
          "height": 751
        },
        "outputId": "cfc21e3c-e43b-424c-b2a5-291568d734ba"
      },
      "source": [
        "# TODO: Try to use a single hidden layer, or three hidden layers\n",
        "model_5 = models.Sequential()\n",
        "model_5.add(layers.Dense(64, activation='relu', input_shape=(10000,)))\n",
        "model_5.add(layers.Dense(46, activation='softmax')) \n",
        "\n",
        "model_5.compile(optimizer = 'rmsprop', loss='categorical_crossentropy', metrics=['accuracy'])\n",
        "\n",
        "model_5.fit(partial_x_train, partial_y_train, epochs=20, batch_size=512, validation_data=(x_val, y_val))"
      ],
      "execution_count": 40,
      "outputs": [
        {
          "output_type": "stream",
          "text": [
            "Train on 7982 samples, validate on 1000 samples\n",
            "Epoch 1/20\n",
            "7982/7982 [==============================] - 1s 156us/step - loss: 2.5444 - accuracy: 0.5486 - val_loss: 1.7957 - val_accuracy: 0.6560\n",
            "Epoch 2/20\n",
            "7982/7982 [==============================] - 1s 132us/step - loss: 1.4488 - accuracy: 0.7181 - val_loss: 1.3476 - val_accuracy: 0.7210\n",
            "Epoch 3/20\n",
            "7982/7982 [==============================] - 1s 130us/step - loss: 1.0579 - accuracy: 0.7910 - val_loss: 1.1433 - val_accuracy: 0.7680\n",
            "Epoch 4/20\n",
            "7982/7982 [==============================] - 1s 133us/step - loss: 0.8268 - accuracy: 0.8364 - val_loss: 1.0285 - val_accuracy: 0.7830\n",
            "Epoch 5/20\n",
            "7982/7982 [==============================] - 1s 130us/step - loss: 0.6634 - accuracy: 0.8741 - val_loss: 0.9505 - val_accuracy: 0.8020\n",
            "Epoch 6/20\n",
            "7982/7982 [==============================] - 1s 131us/step - loss: 0.5406 - accuracy: 0.8956 - val_loss: 0.9093 - val_accuracy: 0.8110\n",
            "Epoch 7/20\n",
            "7982/7982 [==============================] - 1s 127us/step - loss: 0.4471 - accuracy: 0.9117 - val_loss: 0.8640 - val_accuracy: 0.8230\n",
            "Epoch 8/20\n",
            "7982/7982 [==============================] - 1s 131us/step - loss: 0.3719 - accuracy: 0.9245 - val_loss: 0.8388 - val_accuracy: 0.8260\n",
            "Epoch 9/20\n",
            "7982/7982 [==============================] - 1s 127us/step - loss: 0.3150 - accuracy: 0.9340 - val_loss: 0.8322 - val_accuracy: 0.8330\n",
            "Epoch 10/20\n",
            "7982/7982 [==============================] - 1s 129us/step - loss: 0.2676 - accuracy: 0.9395 - val_loss: 0.8285 - val_accuracy: 0.8300\n",
            "Epoch 11/20\n",
            "7982/7982 [==============================] - 1s 127us/step - loss: 0.2320 - accuracy: 0.9466 - val_loss: 0.8495 - val_accuracy: 0.8180\n",
            "Epoch 12/20\n",
            "7982/7982 [==============================] - 1s 128us/step - loss: 0.2028 - accuracy: 0.9499 - val_loss: 0.8395 - val_accuracy: 0.8270\n",
            "Epoch 13/20\n",
            "7982/7982 [==============================] - 1s 127us/step - loss: 0.1815 - accuracy: 0.9520 - val_loss: 0.8554 - val_accuracy: 0.8220\n",
            "Epoch 14/20\n",
            "7982/7982 [==============================] - 1s 130us/step - loss: 0.1626 - accuracy: 0.9546 - val_loss: 0.8846 - val_accuracy: 0.8200\n",
            "Epoch 15/20\n",
            "7982/7982 [==============================] - 1s 128us/step - loss: 0.1498 - accuracy: 0.9545 - val_loss: 0.8883 - val_accuracy: 0.8140\n",
            "Epoch 16/20\n",
            "7982/7982 [==============================] - 1s 128us/step - loss: 0.1376 - accuracy: 0.9551 - val_loss: 0.8768 - val_accuracy: 0.8200\n",
            "Epoch 17/20\n",
            "7982/7982 [==============================] - 1s 129us/step - loss: 0.1298 - accuracy: 0.9573 - val_loss: 0.9074 - val_accuracy: 0.8150\n",
            "Epoch 18/20\n",
            "7982/7982 [==============================] - 1s 132us/step - loss: 0.1226 - accuracy: 0.9573 - val_loss: 0.9069 - val_accuracy: 0.8150\n",
            "Epoch 19/20\n",
            "7982/7982 [==============================] - 1s 128us/step - loss: 0.1162 - accuracy: 0.9579 - val_loss: 0.9169 - val_accuracy: 0.8150\n",
            "Epoch 20/20\n",
            "7982/7982 [==============================] - 1s 127us/step - loss: 0.1083 - accuracy: 0.9574 - val_loss: 0.9502 - val_accuracy: 0.8130\n"
          ],
          "name": "stdout"
        },
        {
          "output_type": "execute_result",
          "data": {
            "text/plain": [
              "<keras.callbacks.callbacks.History at 0x7f04f12e55c0>"
            ]
          },
          "metadata": {
            "tags": []
          },
          "execution_count": 40
        }
      ]
    },
    {
      "cell_type": "code",
      "metadata": {
        "id": "3YDTOZOpFZ7C",
        "colab_type": "code",
        "colab": {
          "base_uri": "https://localhost:8080/",
          "height": 51
        },
        "outputId": "e3d6bdb1-f890-459c-e459-8a59135b2b53"
      },
      "source": [
        "result = model_5.evaluate(x_test,one_hot_test_labels)\n",
        "print(result)"
      ],
      "execution_count": 41,
      "outputs": [
        {
          "output_type": "stream",
          "text": [
            "2246/2246 [==============================] - 0s 94us/step\n",
            "[1.0768302429603447, 0.7902938723564148]\n"
          ],
          "name": "stdout"
        }
      ]
    },
    {
      "cell_type": "markdown",
      "metadata": {
        "id": "gldwCoKB3oiI",
        "colab_type": "text"
      },
      "source": [
        "## Wrapping up\n",
        "\n",
        "\n",
        "Here's what you should take away from this example:\n",
        "\n",
        "* If you are trying to classify data points between N classes, your network should end with a `Dense` layer of size N.\n",
        "* In a single-label, multi-class classification problem, your network should end with a `softmax` activation, so that it will output a \n",
        "probability distribution over the N output classes.\n",
        "* _Categorical crossentropy_ is almost always the loss function you should use for such problems. It minimizes the distance between the \n",
        "probability distributions output by the network, and the true distribution of the targets.\n",
        "* There are two ways to handle labels in multi-class classification:\n",
        "    ** Encoding the labels via \"categorical encoding\" (also known as \"one-hot encoding\") and using `categorical_crossentropy` as your loss \n",
        "function.\n",
        "    ** Encoding the labels as integers and using the `sparse_categorical_crossentropy` loss function.\n",
        "* If you need to classify data into a large number of categories, then you should avoid creating information bottlenecks in your network by having \n",
        "intermediate layers that are too small."
      ]
    },
    {
      "cell_type": "markdown",
      "metadata": {
        "id": "aKekl-HuGXiU",
        "colab_type": "text"
      },
      "source": [
        "## Bonus Point\n",
        "Can you think of other methods to further improve the model performance? Code it up and evaluate them."
      ]
    },
    {
      "cell_type": "code",
      "metadata": {
        "id": "38I30otcrO-r",
        "colab_type": "code",
        "colab": {
          "base_uri": "https://localhost:8080/",
          "height": 751
        },
        "outputId": "0a2dfaa9-c0a5-43f6-ca27-798c9891818c"
      },
      "source": [
        "# TODO\n",
        "#Try reducing the batch size\n",
        "model_b = models.Sequential()\n",
        "model_b.add(layers.Dense(64, activation='relu', input_shape=(10000,)))\n",
        "model_b.add(layers.Dense(46, activation='relu'))\n",
        "model_b.add(layers.Dense(46, activation='softmax')) \n",
        "\n",
        "model_b.compile( optimizer = 'rmsprop', loss='categorical_crossentropy', metrics=['accuracy'])\n",
        "\n",
        "model_b.fit(partial_x_train, partial_y_train, epochs=20, batch_size=64, validation_data=(x_val, y_val))"
      ],
      "execution_count": 42,
      "outputs": [
        {
          "output_type": "stream",
          "text": [
            "Train on 7982 samples, validate on 1000 samples\n",
            "Epoch 1/20\n",
            "7982/7982 [==============================] - 2s 304us/step - loss: 1.6754 - accuracy: 0.6493 - val_loss: 1.1200 - val_accuracy: 0.7470\n",
            "Epoch 2/20\n",
            "7982/7982 [==============================] - 2s 260us/step - loss: 0.8577 - accuracy: 0.8127 - val_loss: 0.9225 - val_accuracy: 0.7980\n",
            "Epoch 3/20\n",
            "7982/7982 [==============================] - 2s 275us/step - loss: 0.5514 - accuracy: 0.8822 - val_loss: 0.8345 - val_accuracy: 0.8190\n",
            "Epoch 4/20\n",
            "7982/7982 [==============================] - 2s 270us/step - loss: 0.3698 - accuracy: 0.9206 - val_loss: 0.8597 - val_accuracy: 0.8210\n",
            "Epoch 5/20\n",
            "7982/7982 [==============================] - 2s 265us/step - loss: 0.2745 - accuracy: 0.9390 - val_loss: 0.8654 - val_accuracy: 0.8280\n",
            "Epoch 6/20\n",
            "7982/7982 [==============================] - 2s 261us/step - loss: 0.2248 - accuracy: 0.9474 - val_loss: 0.9357 - val_accuracy: 0.8180\n",
            "Epoch 7/20\n",
            "7982/7982 [==============================] - 2s 271us/step - loss: 0.1899 - accuracy: 0.9516 - val_loss: 0.9621 - val_accuracy: 0.8160\n",
            "Epoch 8/20\n",
            "7982/7982 [==============================] - 2s 267us/step - loss: 0.1728 - accuracy: 0.9521 - val_loss: 1.0270 - val_accuracy: 0.8100\n",
            "Epoch 9/20\n",
            "7982/7982 [==============================] - 2s 261us/step - loss: 0.1579 - accuracy: 0.9539 - val_loss: 1.1381 - val_accuracy: 0.7900\n",
            "Epoch 10/20\n",
            "7982/7982 [==============================] - 2s 263us/step - loss: 0.1499 - accuracy: 0.9553 - val_loss: 1.1731 - val_accuracy: 0.7940\n",
            "Epoch 11/20\n",
            "7982/7982 [==============================] - 2s 265us/step - loss: 0.1371 - accuracy: 0.9551 - val_loss: 1.1155 - val_accuracy: 0.8040\n",
            "Epoch 12/20\n",
            "7982/7982 [==============================] - 2s 260us/step - loss: 0.1363 - accuracy: 0.9559 - val_loss: 1.1294 - val_accuracy: 0.8020\n",
            "Epoch 13/20\n",
            "7982/7982 [==============================] - 2s 256us/step - loss: 0.1288 - accuracy: 0.9572 - val_loss: 1.1909 - val_accuracy: 0.8020\n",
            "Epoch 14/20\n",
            "7982/7982 [==============================] - 2s 271us/step - loss: 0.1210 - accuracy: 0.9565 - val_loss: 1.3041 - val_accuracy: 0.7860\n",
            "Epoch 15/20\n",
            "7982/7982 [==============================] - 2s 263us/step - loss: 0.1183 - accuracy: 0.9573 - val_loss: 1.2472 - val_accuracy: 0.7920\n",
            "Epoch 16/20\n",
            "7982/7982 [==============================] - 2s 262us/step - loss: 0.1113 - accuracy: 0.9594 - val_loss: 1.3903 - val_accuracy: 0.8020\n",
            "Epoch 17/20\n",
            "7982/7982 [==============================] - 2s 261us/step - loss: 0.1106 - accuracy: 0.9569 - val_loss: 1.3949 - val_accuracy: 0.7950\n",
            "Epoch 18/20\n",
            "7982/7982 [==============================] - 2s 256us/step - loss: 0.1055 - accuracy: 0.9580 - val_loss: 1.4574 - val_accuracy: 0.7880\n",
            "Epoch 19/20\n",
            "7982/7982 [==============================] - 2s 258us/step - loss: 0.1025 - accuracy: 0.9594 - val_loss: 1.4731 - val_accuracy: 0.7920\n",
            "Epoch 20/20\n",
            "7982/7982 [==============================] - 2s 266us/step - loss: 0.1019 - accuracy: 0.9573 - val_loss: 1.4957 - val_accuracy: 0.7900\n"
          ],
          "name": "stdout"
        },
        {
          "output_type": "execute_result",
          "data": {
            "text/plain": [
              "<keras.callbacks.callbacks.History at 0x7f04f0d4aa90>"
            ]
          },
          "metadata": {
            "tags": []
          },
          "execution_count": 42
        }
      ]
    },
    {
      "cell_type": "code",
      "metadata": {
        "id": "35Eb8Gk8GxEN",
        "colab_type": "code",
        "colab": {
          "base_uri": "https://localhost:8080/",
          "height": 51
        },
        "outputId": "6f690aa6-1c3a-4759-a63b-de6953cc37fc"
      },
      "source": [
        "result = model_b.evaluate(x_test,one_hot_test_labels)\n",
        "print(result)"
      ],
      "execution_count": 43,
      "outputs": [
        {
          "output_type": "stream",
          "text": [
            "2246/2246 [==============================] - 0s 93us/step\n",
            "[1.831015934608711, 0.7742653489112854]\n"
          ],
          "name": "stdout"
        }
      ]
    },
    {
      "cell_type": "code",
      "metadata": {
        "id": "xHZpgHjiG8B3",
        "colab_type": "code",
        "colab": {
          "base_uri": "https://localhost:8080/",
          "height": 312
        },
        "outputId": "c6b59d74-85d3-433b-c6ca-670865701dfe"
      },
      "source": [
        "loss = history.history['loss']\n",
        "val_loss = history.history['val_loss']\n",
        "acc = history.history['categorical_accuracy']\n",
        "val_acc = history.history['val_categorical_accuracy']\n",
        "\n",
        "batch = range(64, len(acc) +64)\n",
        "\n",
        "\n",
        "plt.plot(batch, loss, 'bo', label='Training loss')\n",
        "plt.plot(batch, val_loss, 'b', label='Validation loss')\n",
        "plt.title('Training and validation loss')\n",
        "plt.xlabel('Batch')\n",
        "plt.ylabel('Loss')\n",
        "plt.legend()"
      ],
      "execution_count": 44,
      "outputs": [
        {
          "output_type": "execute_result",
          "data": {
            "text/plain": [
              "<matplotlib.legend.Legend at 0x7f04f0844400>"
            ]
          },
          "metadata": {
            "tags": []
          },
          "execution_count": 44
        },
        {
          "output_type": "display_data",
          "data": {
            "image/png": "[encoded data removed]",
            "text/plain": [
              "<Figure size 432x288 with 1 Axes>"
            ]
          },
          "metadata": {
            "tags": [],
            "needs_background": "light"
          }
        }
      ]
    },
    {
      "cell_type": "markdown",
      "metadata": {
        "id": "Zw_odtnxHAZH",
        "colab_type": "text"
      },
      "source": [
        "Loss gets smaller when batch size is reduced, moving close to 0."
      ]
    },
    {
      "cell_type": "markdown",
      "metadata": {
        "id": "l7CGM-0QrOrp",
        "colab_type": "text"
      },
      "source": [
        "# End of HW1"
      ]
    }
  ]
}